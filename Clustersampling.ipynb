{
  "nbformat": 4,
  "nbformat_minor": 0,
  "metadata": {
    "colab": {
      "name": "Clustersampling.ipynb",
      "provenance": []
    },
    "kernelspec": {
      "name": "python3",
      "display_name": "Python 3"
    },
    "language_info": {
      "name": "python"
    }
  },
  "cells": [
    {
      "cell_type": "markdown",
      "metadata": {
        "id": "eA-n36jncKHx"
      },
      "source": [
        "#**Using Cluster Sampling For Uber** "
      ]
    },
    {
      "cell_type": "markdown",
      "metadata": {
        "id": "ZKkoVVPkcPsn"
      },
      "source": [
        "Cluster Sampling- a population is split into clusters and all members of some clusters are chosen to be included in the sample."
      ]
    },
    {
      "cell_type": "markdown",
      "metadata": {
        "id": "r3qMOEAJdp0H"
      },
      "source": [
        "##**Step 1**- **Sample**: Decide the target audience and also the sample size."
      ]
    },
    {
      "cell_type": "markdown",
      "metadata": {
        "id": "nu5lSa_mce8s"
      },
      "source": [
        "Let's Imagine **Uber** wants to survey its Customer.Out of ten tours they give one day, they randomly select four tours and ask every customer to rate their experience on a scale of 1 to 10."
      ]
    },
    {
      "cell_type": "markdown",
      "metadata": {
        "id": "66Kj0kgfc7Mu"
      },
      "source": [
        "##**Step 2-Create and evaluate sampling frames:**The following code shows how to create a pandas DataFrame to work with:"
      ]
    },
    {
      "cell_type": "code",
      "metadata": {
        "colab": {
          "base_uri": "https://localhost:8080/",
          "height": 205
        },
        "id": "GcT2PAiIcJ3T",
        "outputId": "0c0ab8f5-2e82-478f-aca7-bc9ad895111e"
      },
      "source": [
        "import pandas as pd\n",
        "import numpy as np\n",
        "\n",
        "#make this example reproducible\n",
        "np.random.seed(0)\n",
        "\n",
        "#create DataFrame\n",
        "df = pd.DataFrame({'tour': np.repeat(np.arange(1,11), 20),\n",
        "                   'experience': np.random.normal(loc=7, scale=1, size=200)})\n",
        "\n",
        "#view first six rows of DataFrame\n",
        "df.head()"
      ],
      "execution_count": null,
      "outputs": [
        {
          "output_type": "execute_result",
          "data": {
            "text/html": [
              "<div>\n",
              "<style scoped>\n",
              "    .dataframe tbody tr th:only-of-type {\n",
              "        vertical-align: middle;\n",
              "    }\n",
              "\n",
              "    .dataframe tbody tr th {\n",
              "        vertical-align: top;\n",
              "    }\n",
              "\n",
              "    .dataframe thead th {\n",
              "        text-align: right;\n",
              "    }\n",
              "</style>\n",
              "<table border=\"1\" class=\"dataframe\">\n",
              "  <thead>\n",
              "    <tr style=\"text-align: right;\">\n",
              "      <th></th>\n",
              "      <th>tour</th>\n",
              "      <th>experience</th>\n",
              "    </tr>\n",
              "  </thead>\n",
              "  <tbody>\n",
              "    <tr>\n",
              "      <th>0</th>\n",
              "      <td>1</td>\n",
              "      <td>8.764052</td>\n",
              "    </tr>\n",
              "    <tr>\n",
              "      <th>1</th>\n",
              "      <td>1</td>\n",
              "      <td>7.400157</td>\n",
              "    </tr>\n",
              "    <tr>\n",
              "      <th>2</th>\n",
              "      <td>1</td>\n",
              "      <td>7.978738</td>\n",
              "    </tr>\n",
              "    <tr>\n",
              "      <th>3</th>\n",
              "      <td>1</td>\n",
              "      <td>9.240893</td>\n",
              "    </tr>\n",
              "    <tr>\n",
              "      <th>4</th>\n",
              "      <td>1</td>\n",
              "      <td>8.867558</td>\n",
              "    </tr>\n",
              "  </tbody>\n",
              "</table>\n",
              "</div>"
            ],
            "text/plain": [
              "   tour  experience\n",
              "0     1    8.764052\n",
              "1     1    7.400157\n",
              "2     1    7.978738\n",
              "3     1    9.240893\n",
              "4     1    8.867558"
            ]
          },
          "metadata": {},
          "execution_count": 2
        }
      ]
    },
    {
      "cell_type": "markdown",
      "metadata": {
        "id": "bzqUB-qidQij"
      },
      "source": [
        "##**Step 3-Determine groups:**"
      ]
    },
    {
      "cell_type": "markdown",
      "metadata": {
        "id": "YYTYfoQFg8oU"
      },
      "source": [
        "##**Step 4-Select clusters:** Choose clusters by applying a random selection."
      ]
    },
    {
      "cell_type": "code",
      "metadata": {
        "colab": {
          "base_uri": "https://localhost:8080/",
          "height": 205
        },
        "id": "6hCJATg-cFba",
        "outputId": "33afa447-d977-43df-f677-da20d4f5ec03"
      },
      "source": [
        "#randomly choose 4 tour groups out of the 10\n",
        "clusters = np.random.choice(np.arange(1,11), size=4, replace=False)\n",
        "\n",
        "#define sample as all members who belong to one of the 4 tour groups\n",
        "cluster_sample = df[df['tour'].isin(clusters)]\n",
        "\n",
        "#view first six rows of sample\n",
        "cluster_sample.head()"
      ],
      "execution_count": null,
      "outputs": [
        {
          "output_type": "execute_result",
          "data": {
            "text/html": [
              "<div>\n",
              "<style scoped>\n",
              "    .dataframe tbody tr th:only-of-type {\n",
              "        vertical-align: middle;\n",
              "    }\n",
              "\n",
              "    .dataframe tbody tr th {\n",
              "        vertical-align: top;\n",
              "    }\n",
              "\n",
              "    .dataframe thead th {\n",
              "        text-align: right;\n",
              "    }\n",
              "</style>\n",
              "<table border=\"1\" class=\"dataframe\">\n",
              "  <thead>\n",
              "    <tr style=\"text-align: right;\">\n",
              "      <th></th>\n",
              "      <th>tour</th>\n",
              "      <th>experience</th>\n",
              "    </tr>\n",
              "  </thead>\n",
              "  <tbody>\n",
              "    <tr>\n",
              "      <th>0</th>\n",
              "      <td>1</td>\n",
              "      <td>8.764052</td>\n",
              "    </tr>\n",
              "    <tr>\n",
              "      <th>1</th>\n",
              "      <td>1</td>\n",
              "      <td>7.400157</td>\n",
              "    </tr>\n",
              "    <tr>\n",
              "      <th>2</th>\n",
              "      <td>1</td>\n",
              "      <td>7.978738</td>\n",
              "    </tr>\n",
              "    <tr>\n",
              "      <th>3</th>\n",
              "      <td>1</td>\n",
              "      <td>9.240893</td>\n",
              "    </tr>\n",
              "    <tr>\n",
              "      <th>4</th>\n",
              "      <td>1</td>\n",
              "      <td>8.867558</td>\n",
              "    </tr>\n",
              "  </tbody>\n",
              "</table>\n",
              "</div>"
            ],
            "text/plain": [
              "   tour  experience\n",
              "0     1    8.764052\n",
              "1     1    7.400157\n",
              "2     1    7.978738\n",
              "3     1    9.240893\n",
              "4     1    8.867558"
            ]
          },
          "metadata": {},
          "execution_count": 3
        }
      ]
    },
    {
      "cell_type": "markdown",
      "metadata": {
        "id": "L761fA4kcJGW"
      },
      "source": [
        "Will find how many observations came from each tour group"
      ]
    },
    {
      "cell_type": "code",
      "metadata": {
        "colab": {
          "base_uri": "https://localhost:8080/"
        },
        "id": "N0bASGmPfXFL",
        "outputId": "70650090-a362-480d-c7d4-d1493088a0ed"
      },
      "source": [
        "#find how many observations came from each tour group\n",
        "cluster_sample['tour'].value_counts()"
      ],
      "execution_count": null,
      "outputs": [
        {
          "output_type": "execute_result",
          "data": {
            "text/plain": [
              "10    20\n",
              "7     20\n",
              "5     20\n",
              "3     20\n",
              "Name: tour, dtype: int64"
            ]
          },
          "metadata": {},
          "execution_count": 16
        }
      ]
    },
    {
      "cell_type": "markdown",
      "metadata": {
        "id": "u3VXvclhhQCK"
      },
      "source": [
        "What we understand from the output?\n",
        "\n",
        "*   20 customers from tour group #10 were included in the sample.\n",
        "*   20 customers from tour group #6 were included in the sample.\n",
        "*   20 customers from tour group #5 were included in the sample.\n",
        "*   20 customers from tour group #3 were included in the sample.\n",
        "\n",
        "\n",
        "\n"
      ]
    },
    {
      "cell_type": "markdown",
      "metadata": {
        "id": "oUckPSHOh-5G"
      },
      "source": [
        "**This sample is composed of 80 total customers that came from 4 different tour groups.**"
      ]
    }
  ]
}