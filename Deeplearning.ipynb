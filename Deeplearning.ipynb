{
  "nbformat": 4,
  "nbformat_minor": 0,
  "metadata": {
    "colab": {
      "name": "Deeplearning.ipynb",
      "provenance": []
    },
    "kernelspec": {
      "name": "python3",
      "display_name": "Python 3"
    },
    "language_info": {
      "name": "python"
    }
  },
  "cells": [
    {
      "cell_type": "code",
      "metadata": {
        "colab": {
          "base_uri": "https://localhost:8080/"
        },
        "id": "WKgNdmkjtsDh",
        "outputId": "f054b323-e4b0-41bf-d719-cc8b717adcb6"
      },
      "source": [
        "#verctorization\n",
        "import numpy as np\n",
        "\n",
        "a=np.array([1,2,3,4])\n",
        "print(a)"
      ],
      "execution_count": null,
      "outputs": [
        {
          "output_type": "stream",
          "text": [
            "[1 2 3 4]\n"
          ],
          "name": "stdout"
        }
      ]
    },
    {
      "cell_type": "code",
      "metadata": {
        "colab": {
          "base_uri": "https://localhost:8080/"
        },
        "id": "npLEJsSIuDrm",
        "outputId": "05ee38e1-a269-4584-ef36-963ed5661b50"
      },
      "source": [
        "import time\n",
        "a=np.random.rand(1000000)\n",
        "b=np.random.rand(1000000)\n",
        "\n",
        "tic=time.time()\n",
        "c=np.dot(a,b)\n",
        "toc=time.time()\n",
        "\n",
        "print(\"vectorised version:\"+str(1000*(toc-tic))+\"ms\")"
      ],
      "execution_count": null,
      "outputs": [
        {
          "output_type": "stream",
          "text": [
            "vectorised version:2.6366710662841797ms\n"
          ],
          "name": "stdout"
        }
      ]
    },
    {
      "cell_type": "code",
      "metadata": {
        "colab": {
          "base_uri": "https://localhost:8080/"
        },
        "id": "ZboikzwQwVnJ",
        "outputId": "9bb40cf1-8a9c-4898-d9f6-d36104a22505"
      },
      "source": [
        "c=0\n",
        "tic=time.time()\n",
        "for i in range(100000):\n",
        "  c+=a[i]*b[i]\n",
        "toc=time.time()\n",
        "print(\"For loop\"+str(1000*(toc-tic))+\"ms\")"
      ],
      "execution_count": null,
      "outputs": [
        {
          "output_type": "stream",
          "text": [
            "For loop73.3346939086914ms\n"
          ],
          "name": "stdout"
        }
      ]
    },
    {
      "cell_type": "code",
      "metadata": {
        "id": "AZdwpg_z0VId",
        "colab": {
          "base_uri": "https://localhost:8080/"
        },
        "outputId": "4dc88475-c649-4d2f-8fba-d59a488a795a"
      },
      "source": [
        "import numpy as np\n",
        "\n",
        "A=np.array(([56.0,0.0,4.0,68.0],[1.2,104.0,52.0,8.0],[1.8,135.0,99.0,0.9]))\n",
        "\n",
        "print(A)"
      ],
      "execution_count": null,
      "outputs": [
        {
          "output_type": "stream",
          "text": [
            "[[ 56.    0.    4.   68. ]\n",
            " [  1.2 104.   52.    8. ]\n",
            " [  1.8 135.   99.    0.9]]\n"
          ],
          "name": "stdout"
        }
      ]
    },
    {
      "cell_type": "code",
      "metadata": {
        "colab": {
          "base_uri": "https://localhost:8080/"
        },
        "id": "kT9CJvXEIiqR",
        "outputId": "38667688-c51a-4ff1-85b4-4ece50a05374"
      },
      "source": [
        "cal=A.sum(axis=0)\n",
        "print(cal)"
      ],
      "execution_count": null,
      "outputs": [
        {
          "output_type": "stream",
          "text": [
            "[ 59.  239.  155.   76.9]\n"
          ],
          "name": "stdout"
        }
      ]
    },
    {
      "cell_type": "code",
      "metadata": {
        "colab": {
          "base_uri": "https://localhost:8080/"
        },
        "id": "yDaemioRMo9Z",
        "outputId": "4daadc84-b067-478e-a616-934a040361de"
      },
      "source": [
        "percentage =100*A/cal.reshape(1,4)\n",
        "print (percentage)\n",
        "\n"
      ],
      "execution_count": null,
      "outputs": [
        {
          "output_type": "stream",
          "text": [
            "[[94.91525424  0.          2.58064516 88.42652796]\n",
            " [ 2.03389831 43.51464435 33.5483871  10.40312094]\n",
            " [ 3.05084746 56.48535565 63.87096774  1.17035111]]\n"
          ],
          "name": "stdout"
        }
      ]
    },
    {
      "cell_type": "code",
      "metadata": {
        "id": "xGA4HfdmOURN"
      },
      "source": [
        ""
      ],
      "execution_count": null,
      "outputs": []
    },
    {
      "cell_type": "code",
      "metadata": {
        "id": "V4Gxy0xYMuMw"
      },
      "source": [
        ""
      ],
      "execution_count": null,
      "outputs": []
    },
    {
      "cell_type": "code",
      "metadata": {
        "colab": {
          "base_uri": "https://localhost:8080/"
        },
        "id": "h72ejfHRIvhY",
        "outputId": "d50b2759-45fd-4cb0-ae8f-fc71ea9af269"
      },
      "source": [
        ""
      ],
      "execution_count": null,
      "outputs": [
        {
          "output_type": "stream",
          "text": [
            "[[94.91525424  0.          2.58064516 88.42652796]\n",
            " [ 2.03389831 43.51464435 33.5483871  10.40312094]\n",
            " [ 3.05084746 56.48535565 63.87096774  1.17035111]]\n"
          ],
          "name": "stdout"
        }
      ]
    }
  ]
}