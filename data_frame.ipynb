{
  "nbformat": 4,
  "nbformat_minor": 0,
  "metadata": {
    "colab": {
      "name": "data frame.ipynb",
      "provenance": []
    },
    "kernelspec": {
      "name": "python3",
      "display_name": "Python 3"
    },
    "language_info": {
      "name": "python"
    }
  },
  "cells": [
    {
      "cell_type": "code",
      "metadata": {
        "id": "-mOLalS1QJTi"
      },
      "source": [
        "#DATA FRAMECAN BE CREATED BY TWO WAYS "
      ],
      "execution_count": null,
      "outputs": []
    },
    {
      "cell_type": "code",
      "metadata": {
        "id": "DUxbG4DjIJVJ"
      },
      "source": [
        ""
      ],
      "execution_count": null,
      "outputs": []
    },
    {
      "cell_type": "code",
      "metadata": {
        "colab": {
          "base_uri": "https://localhost:8080/"
        },
        "id": "VhmRCpuaQRJJ",
        "outputId": "5ae9505a-c776-471e-c8a8-f606f5903008"
      },
      "source": [
        "#LIST\n",
        "import numpy as py\n",
        "import pandas as pd\n",
        "\n",
        "a=['python','pandas']\n",
        "b=pd.DataFrame(a)\n",
        "print(b)"
      ],
      "execution_count": null,
      "outputs": [
        {
          "output_type": "stream",
          "text": [
            "        0\n",
            "0  python\n",
            "1  pandas\n"
          ],
          "name": "stdout"
        }
      ]
    },
    {
      "cell_type": "code",
      "metadata": {
        "colab": {
          "base_uri": "https://localhost:8080/"
        },
        "id": "t8q_0jzKQqEz",
        "outputId": "ab74cace-011b-4d40-ccc9-40f135a48518"
      },
      "source": [
        "#dict narrays\n",
        "import pandas as pd\n",
        "\n",
        "a={\"ID\":[1,2,3,4,5,6,7,8,9],\"NAME\":['sanchay','sanchay1','sanchay2','sanchay3','san4','san5','san6','san7','san8']}\n",
        "b=pd.DataFrame(a)\n",
        "\n",
        "print(b)"
      ],
      "execution_count": null,
      "outputs": [
        {
          "output_type": "stream",
          "text": [
            "   ID      NAME\n",
            "0   1   sanchay\n",
            "1   2  sanchay1\n",
            "2   3  sanchay2\n",
            "3   4  sanchay3\n",
            "4   5      san4\n",
            "5   6      san5\n",
            "6   7      san6\n",
            "7   8      san7\n",
            "8   9      san8\n"
          ],
          "name": "stdout"
        }
      ]
    },
    {
      "cell_type": "code",
      "metadata": {
        "colab": {
          "base_uri": "https://localhost:8080/"
        },
        "id": "1TCMvdWERwRI",
        "outputId": "1fbc1d60-7dc2-4f61-bf0b-e29109a7b424"
      },
      "source": [
        "#Problem Statement: \n",
        "#Create a DataFrame containing the data of a cultural event, add a column called ‘Price’ which contains the ticket price for a particular day based on the type of event that will be conducted on that particular day.\n",
        "\n",
        "import pandas as pd\n",
        "import numpy as\n",
        "\n",
        "colm={\"PRICE\":[200,300,400,500,600,700,800],\"DAY\":['mon','tue','wed','thru','fri','sat','sun']}\n",
        "\n",
        "all_set=pd.DataFrame(colm)\n",
        "\n",
        "print(all_set)"
      ],
      "execution_count": null,
      "outputs": [
        {
          "output_type": "stream",
          "text": [
            "   PRICE   DAY\n",
            "0    200   mon\n",
            "1    300   tue\n",
            "2    400   wed\n",
            "3    500  thru\n",
            "4    600   fri\n",
            "5    700   sat\n",
            "6    800   sun\n"
          ],
          "name": "stdout"
        }
      ]
    },
    {
      "cell_type": "code",
      "metadata": {
        "colab": {
          "base_uri": "https://localhost:8080/",
          "height": 581
        },
        "id": "lehCptH6Tqy5",
        "outputId": "c87b8896-215c-4684-89da-e99e879741eb"
      },
      "source": [
        "#data\n",
        "apply=all_set.apply(np.sum)\n",
        "\n",
        "print(apply)\n"
      ],
      "execution_count": null,
      "outputs": [
        {
          "output_type": "stream",
          "text": [
            "PRICE                      3500\n",
            "DAY      montuewedthrufrisatsun\n",
            "dtype: object\n"
          ],
          "name": "stdout"
        },
        {
          "output_type": "error",
          "ename": "TypeError",
          "evalue": "ignored",
          "traceback": [
            "\u001b[0;31m---------------------------------------------------------------------------\u001b[0m",
            "\u001b[0;31mAttributeError\u001b[0m                            Traceback (most recent call last)",
            "\u001b[0;31mAttributeError\u001b[0m: 'str' object has no attribute 'sqrt'",
            "\nThe above exception was the direct cause of the following exception:\n",
            "\u001b[0;31mTypeError\u001b[0m                                 Traceback (most recent call last)",
            "\u001b[0;32m<ipython-input-29-d039bfd7c316>\u001b[0m in \u001b[0;36m<module>\u001b[0;34m()\u001b[0m\n\u001b[1;32m      3\u001b[0m \u001b[0;34m\u001b[0m\u001b[0m\n\u001b[1;32m      4\u001b[0m \u001b[0mprint\u001b[0m\u001b[0;34m(\u001b[0m\u001b[0mapply\u001b[0m\u001b[0;34m)\u001b[0m\u001b[0;34m\u001b[0m\u001b[0;34m\u001b[0m\u001b[0m\n\u001b[0;32m----> 5\u001b[0;31m \u001b[0mapply\u001b[0m\u001b[0;34m=\u001b[0m\u001b[0mall_set\u001b[0m\u001b[0;34m.\u001b[0m\u001b[0mapply\u001b[0m\u001b[0;34m(\u001b[0m\u001b[0mnp\u001b[0m\u001b[0;34m.\u001b[0m\u001b[0msqrt\u001b[0m\u001b[0;34m)\u001b[0m\u001b[0;34m\u001b[0m\u001b[0;34m\u001b[0m\u001b[0m\n\u001b[0m\u001b[1;32m      6\u001b[0m \u001b[0mprint\u001b[0m\u001b[0;34m(\u001b[0m\u001b[0mapply\u001b[0m\u001b[0;34m)\u001b[0m\u001b[0;34m\u001b[0m\u001b[0;34m\u001b[0m\u001b[0m\n",
            "\u001b[0;32m/usr/local/lib/python3.7/dist-packages/pandas/core/frame.py\u001b[0m in \u001b[0;36mapply\u001b[0;34m(self, func, axis, raw, result_type, args, **kwds)\u001b[0m\n\u001b[1;32m   7550\u001b[0m             \u001b[0mkwds\u001b[0m\u001b[0;34m=\u001b[0m\u001b[0mkwds\u001b[0m\u001b[0;34m,\u001b[0m\u001b[0;34m\u001b[0m\u001b[0;34m\u001b[0m\u001b[0m\n\u001b[1;32m   7551\u001b[0m         )\n\u001b[0;32m-> 7552\u001b[0;31m         \u001b[0;32mreturn\u001b[0m \u001b[0mop\u001b[0m\u001b[0;34m.\u001b[0m\u001b[0mget_result\u001b[0m\u001b[0;34m(\u001b[0m\u001b[0;34m)\u001b[0m\u001b[0;34m\u001b[0m\u001b[0;34m\u001b[0m\u001b[0m\n\u001b[0m\u001b[1;32m   7553\u001b[0m \u001b[0;34m\u001b[0m\u001b[0m\n\u001b[1;32m   7554\u001b[0m     \u001b[0;32mdef\u001b[0m \u001b[0mapplymap\u001b[0m\u001b[0;34m(\u001b[0m\u001b[0mself\u001b[0m\u001b[0;34m,\u001b[0m \u001b[0mfunc\u001b[0m\u001b[0;34m)\u001b[0m \u001b[0;34m->\u001b[0m \u001b[0;34m\"DataFrame\"\u001b[0m\u001b[0;34m:\u001b[0m\u001b[0;34m\u001b[0m\u001b[0;34m\u001b[0m\u001b[0m\n",
            "\u001b[0;32m/usr/local/lib/python3.7/dist-packages/pandas/core/apply.py\u001b[0m in \u001b[0;36mget_result\u001b[0;34m(self)\u001b[0m\n\u001b[1;32m    167\u001b[0m         \u001b[0;32melif\u001b[0m \u001b[0misinstance\u001b[0m\u001b[0;34m(\u001b[0m\u001b[0mself\u001b[0m\u001b[0;34m.\u001b[0m\u001b[0mf\u001b[0m\u001b[0;34m,\u001b[0m \u001b[0mnp\u001b[0m\u001b[0;34m.\u001b[0m\u001b[0mufunc\u001b[0m\u001b[0;34m)\u001b[0m\u001b[0;34m:\u001b[0m\u001b[0;34m\u001b[0m\u001b[0;34m\u001b[0m\u001b[0m\n\u001b[1;32m    168\u001b[0m             \u001b[0;32mwith\u001b[0m \u001b[0mnp\u001b[0m\u001b[0;34m.\u001b[0m\u001b[0merrstate\u001b[0m\u001b[0;34m(\u001b[0m\u001b[0mall\u001b[0m\u001b[0;34m=\u001b[0m\u001b[0;34m\"ignore\"\u001b[0m\u001b[0;34m)\u001b[0m\u001b[0;34m:\u001b[0m\u001b[0;34m\u001b[0m\u001b[0;34m\u001b[0m\u001b[0m\n\u001b[0;32m--> 169\u001b[0;31m                 \u001b[0mresults\u001b[0m \u001b[0;34m=\u001b[0m \u001b[0mself\u001b[0m\u001b[0;34m.\u001b[0m\u001b[0mobj\u001b[0m\u001b[0;34m.\u001b[0m\u001b[0m_mgr\u001b[0m\u001b[0;34m.\u001b[0m\u001b[0mapply\u001b[0m\u001b[0;34m(\u001b[0m\u001b[0;34m\"apply\"\u001b[0m\u001b[0;34m,\u001b[0m \u001b[0mfunc\u001b[0m\u001b[0;34m=\u001b[0m\u001b[0mself\u001b[0m\u001b[0;34m.\u001b[0m\u001b[0mf\u001b[0m\u001b[0;34m)\u001b[0m\u001b[0;34m\u001b[0m\u001b[0;34m\u001b[0m\u001b[0m\n\u001b[0m\u001b[1;32m    170\u001b[0m             \u001b[0;31m# _constructor will retain self.index and self.columns\u001b[0m\u001b[0;34m\u001b[0m\u001b[0;34m\u001b[0m\u001b[0;34m\u001b[0m\u001b[0m\n\u001b[1;32m    171\u001b[0m             \u001b[0;32mreturn\u001b[0m \u001b[0mself\u001b[0m\u001b[0;34m.\u001b[0m\u001b[0mobj\u001b[0m\u001b[0;34m.\u001b[0m\u001b[0m_constructor\u001b[0m\u001b[0;34m(\u001b[0m\u001b[0mdata\u001b[0m\u001b[0;34m=\u001b[0m\u001b[0mresults\u001b[0m\u001b[0;34m)\u001b[0m\u001b[0;34m\u001b[0m\u001b[0;34m\u001b[0m\u001b[0m\n",
            "\u001b[0;32m/usr/local/lib/python3.7/dist-packages/pandas/core/internals/managers.py\u001b[0m in \u001b[0;36mapply\u001b[0;34m(self, f, align_keys, **kwargs)\u001b[0m\n\u001b[1;32m    407\u001b[0m                 \u001b[0mapplied\u001b[0m \u001b[0;34m=\u001b[0m \u001b[0mb\u001b[0m\u001b[0;34m.\u001b[0m\u001b[0mapply\u001b[0m\u001b[0;34m(\u001b[0m\u001b[0mf\u001b[0m\u001b[0;34m,\u001b[0m \u001b[0;34m**\u001b[0m\u001b[0mkwargs\u001b[0m\u001b[0;34m)\u001b[0m\u001b[0;34m\u001b[0m\u001b[0;34m\u001b[0m\u001b[0m\n\u001b[1;32m    408\u001b[0m             \u001b[0;32melse\u001b[0m\u001b[0;34m:\u001b[0m\u001b[0;34m\u001b[0m\u001b[0;34m\u001b[0m\u001b[0m\n\u001b[0;32m--> 409\u001b[0;31m                 \u001b[0mapplied\u001b[0m \u001b[0;34m=\u001b[0m \u001b[0mgetattr\u001b[0m\u001b[0;34m(\u001b[0m\u001b[0mb\u001b[0m\u001b[0;34m,\u001b[0m \u001b[0mf\u001b[0m\u001b[0;34m)\u001b[0m\u001b[0;34m(\u001b[0m\u001b[0;34m**\u001b[0m\u001b[0mkwargs\u001b[0m\u001b[0;34m)\u001b[0m\u001b[0;34m\u001b[0m\u001b[0;34m\u001b[0m\u001b[0m\n\u001b[0m\u001b[1;32m    410\u001b[0m             \u001b[0mresult_blocks\u001b[0m \u001b[0;34m=\u001b[0m \u001b[0m_extend_blocks\u001b[0m\u001b[0;34m(\u001b[0m\u001b[0mapplied\u001b[0m\u001b[0;34m,\u001b[0m \u001b[0mresult_blocks\u001b[0m\u001b[0;34m)\u001b[0m\u001b[0;34m\u001b[0m\u001b[0;34m\u001b[0m\u001b[0m\n\u001b[1;32m    411\u001b[0m \u001b[0;34m\u001b[0m\u001b[0m\n",
            "\u001b[0;32m/usr/local/lib/python3.7/dist-packages/pandas/core/internals/blocks.py\u001b[0m in \u001b[0;36mapply\u001b[0;34m(self, func, **kwargs)\u001b[0m\n\u001b[1;32m    344\u001b[0m         \"\"\"\n\u001b[1;32m    345\u001b[0m         \u001b[0;32mwith\u001b[0m \u001b[0mnp\u001b[0m\u001b[0;34m.\u001b[0m\u001b[0merrstate\u001b[0m\u001b[0;34m(\u001b[0m\u001b[0mall\u001b[0m\u001b[0;34m=\u001b[0m\u001b[0;34m\"ignore\"\u001b[0m\u001b[0;34m)\u001b[0m\u001b[0;34m:\u001b[0m\u001b[0;34m\u001b[0m\u001b[0;34m\u001b[0m\u001b[0m\n\u001b[0;32m--> 346\u001b[0;31m             \u001b[0mresult\u001b[0m \u001b[0;34m=\u001b[0m \u001b[0mfunc\u001b[0m\u001b[0;34m(\u001b[0m\u001b[0mself\u001b[0m\u001b[0;34m.\u001b[0m\u001b[0mvalues\u001b[0m\u001b[0;34m,\u001b[0m \u001b[0;34m**\u001b[0m\u001b[0mkwargs\u001b[0m\u001b[0;34m)\u001b[0m\u001b[0;34m\u001b[0m\u001b[0;34m\u001b[0m\u001b[0m\n\u001b[0m\u001b[1;32m    347\u001b[0m \u001b[0;34m\u001b[0m\u001b[0m\n\u001b[1;32m    348\u001b[0m         \u001b[0;32mreturn\u001b[0m \u001b[0mself\u001b[0m\u001b[0;34m.\u001b[0m\u001b[0m_split_op_result\u001b[0m\u001b[0;34m(\u001b[0m\u001b[0mresult\u001b[0m\u001b[0;34m)\u001b[0m\u001b[0;34m\u001b[0m\u001b[0;34m\u001b[0m\u001b[0m\n",
            "\u001b[0;31mTypeError\u001b[0m: loop of ufunc does not support argument 0 of type str which has no callable sqrt method"
          ]
        }
      ]
    },
    {
      "cell_type": "code",
      "metadata": {
        "id": "nWjdT9dFZ8Kp"
      },
      "source": [
        ""
      ],
      "execution_count": null,
      "outputs": []
    },
    {
      "cell_type": "code",
      "metadata": {
        "colab": {
          "base_uri": "https://localhost:8080/"
        },
        "id": "YWX_XqM1a0Ci",
        "outputId": "01037b58-68c1-43b2-c76f-cebdfbcda8c1"
      },
      "source": [
        "#Problem Statement: \n",
        "#Create a DataFrame containing the data of a cultural event, add a column called ‘Price’ which contains the ticket price for a particular day based on the type of event that will be conducted on that particular day.\n",
        "\n",
        "import pandas as pd\n",
        "import numpy as np\n",
        "\n",
        "colm={\"PRICE\":[200,300,400,500,600,700,800],\"DAY\":[1,2,3,4,5,6,7]}\n",
        "\n",
        "all_set=pd.DataFrame(colm)\n",
        "\n",
        "print(all_set)\n",
        "#apply=all_set.apply(np.sqrt)\n",
        "apply=all_set.apply(np.sqrt,axis=1,result_type='expand')\n",
        "print(apply)\n"
      ],
      "execution_count": null,
      "outputs": [
        {
          "output_type": "stream",
          "text": [
            "   PRICE  DAY\n",
            "0    200    1\n",
            "1    300    2\n",
            "2    400    3\n",
            "3    500    4\n",
            "4    600    5\n",
            "5    700    6\n",
            "6    800    7\n",
            "       PRICE       DAY\n",
            "0  14.142136  1.000000\n",
            "1  17.320508  1.414214\n",
            "2  20.000000  1.732051\n",
            "3  22.360680  2.000000\n",
            "4  24.494897  2.236068\n",
            "5  26.457513  2.449490\n",
            "6  28.284271  2.645751\n"
          ],
          "name": "stdout"
        }
      ]
    },
    {
      "cell_type": "code",
      "metadata": {
        "colab": {
          "base_uri": "https://localhost:8080/"
        },
        "id": "a_KzcU2TW2EX",
        "outputId": "bf9c2c39-8b94-4db9-b605-6c8217572b4a"
      },
      "source": [
        "import pandas as pd\n",
        "import numpy as np\n",
        "\n",
        "colm={\"PRICE\":[200,300,400,500,600,700,800],\"DAY\":[1,2,3,4,5,6,7]}\n",
        "\n",
        "all_set=pd.DataFrame(colm)\n",
        "\n",
        "print(all_set)\n",
        "#apply=all_set.apply(np.sqrt)\n",
        "apply=all_set.apply(np.sqrt,axis=1,result_type='expand')\n",
        "print(apply)"
      ],
      "execution_count": null,
      "outputs": [
        {
          "output_type": "stream",
          "text": [
            "   PRICE  DAY\n",
            "0    200    1\n",
            "1    300    2\n",
            "2    400    3\n",
            "3    500    4\n",
            "4    600    5\n",
            "5    700    6\n",
            "6    800    7\n",
            "       PRICE       DAY\n",
            "0  14.142136  1.000000\n",
            "1  17.320508  1.414214\n",
            "2  20.000000  1.732051\n",
            "3  22.360680  2.000000\n",
            "4  24.494897  2.236068\n",
            "5  26.457513  2.449490\n",
            "6  28.284271  2.645751\n"
          ],
          "name": "stdout"
        }
      ]
    },
    {
      "cell_type": "code",
      "metadata": {
        "colab": {
          "base_uri": "https://localhost:8080/",
          "height": 137
        },
        "id": "LgxLDXwNY92u",
        "outputId": "7e9008d3-ae20-4fc8-c0ca-be4cca30965a"
      },
      "source": [
        "df = pd.DataFrame([[4, 9]] * 3, columns=['A', 'B'])\n",
        "df.apply(lambda x: pd.Series([1, 2], index=['foo', 'bar']), axis=1)"
      ],
      "execution_count": null,
      "outputs": [
        {
          "output_type": "execute_result",
          "data": {
            "text/html": [
              "<div>\n",
              "<style scoped>\n",
              "    .dataframe tbody tr th:only-of-type {\n",
              "        vertical-align: middle;\n",
              "    }\n",
              "\n",
              "    .dataframe tbody tr th {\n",
              "        vertical-align: top;\n",
              "    }\n",
              "\n",
              "    .dataframe thead th {\n",
              "        text-align: right;\n",
              "    }\n",
              "</style>\n",
              "<table border=\"1\" class=\"dataframe\">\n",
              "  <thead>\n",
              "    <tr style=\"text-align: right;\">\n",
              "      <th></th>\n",
              "      <th>foo</th>\n",
              "      <th>bar</th>\n",
              "    </tr>\n",
              "  </thead>\n",
              "  <tbody>\n",
              "    <tr>\n",
              "      <th>0</th>\n",
              "      <td>1</td>\n",
              "      <td>2</td>\n",
              "    </tr>\n",
              "    <tr>\n",
              "      <th>1</th>\n",
              "      <td>1</td>\n",
              "      <td>2</td>\n",
              "    </tr>\n",
              "    <tr>\n",
              "      <th>2</th>\n",
              "      <td>1</td>\n",
              "      <td>2</td>\n",
              "    </tr>\n",
              "  </tbody>\n",
              "</table>\n",
              "</div>"
            ],
            "text/plain": [
              "   foo  bar\n",
              "0    1    2\n",
              "1    1    2\n",
              "2    1    2"
            ]
          },
          "metadata": {
            "tags": []
          },
          "execution_count": 17
        }
      ]
    },
    {
      "cell_type": "code",
      "metadata": {
        "colab": {
          "base_uri": "https://localhost:8080/"
        },
        "id": "BjhB-MNYILc-",
        "outputId": "96114204-3a4d-4227-8d9e-322c69522dd4"
      },
      "source": [
        "#Make a pandas df with 2-d list\n",
        "\n",
        "import pandas as pd \n",
        "import numpy as np\n",
        "\n",
        "list=[[1,'one'],[2,\"two\"],[3,\"three\"],[4,\"four\"],[5,\"five\"]]\n",
        "\n",
        "df=pd.DataFrame(list,columns=['Tag','number'])\n",
        "\n",
        "print(df)\n",
        "\n",
        "\n"
      ],
      "execution_count": null,
      "outputs": [
        {
          "output_type": "stream",
          "text": [
            "   Tag number\n",
            "0    1    one\n",
            "1    2    two\n",
            "2    3  three\n",
            "3    4   four\n",
            "4    5   five\n"
          ],
          "name": "stdout"
        }
      ]
    },
    {
      "cell_type": "code",
      "metadata": {
        "colab": {
          "base_uri": "https://localhost:8080/"
        },
        "id": "LIMLRsOwK0nx",
        "outputId": "3ad4ecd3-ef00-4894-c6ba-0e7656270d4a"
      },
      "source": [
        "#creating dataframe from dict of narray\n",
        "\n",
        "import pandas as pd\n",
        "\n",
        "data={'team':['t1','t2','t3','t4'],\n",
        "      'score':[1,2,3,4]}\n",
        "\n",
        "df=pd.DataFrame(data) \n",
        "\n",
        "print(df)\n"
      ],
      "execution_count": null,
      "outputs": [
        {
          "output_type": "stream",
          "text": [
            "  team  score\n",
            "0   t1      1\n",
            "1   t2      2\n",
            "2   t3      3\n",
            "3   t4      4\n"
          ],
          "name": "stdout"
        }
      ]
    },
    {
      "cell_type": "code",
      "metadata": {
        "colab": {
          "base_uri": "https://localhost:8080/"
        },
        "id": "3PZ1masRNelo",
        "outputId": "7983c971-0c60-4841-ce44-241b27b754df"
      },
      "source": [
        "#Providing index list to df\n",
        "\n",
        "df=pd.DataFrame(data,index =['cat_1','cat_2','cat_3','cat_4'])\n",
        "\n",
        "print(df)\n"
      ],
      "execution_count": null,
      "outputs": [
        {
          "output_type": "stream",
          "text": [
            "      team  score\n",
            "cat_1   t1      1\n",
            "cat_2   t2      2\n",
            "cat_3   t3      3\n",
            "cat_4   t4      4\n"
          ],
          "name": "stdout"
        }
      ]
    },
    {
      "cell_type": "code",
      "metadata": {
        "colab": {
          "base_uri": "https://localhost:8080/"
        },
        "id": "iVPQczmjO7fa",
        "outputId": "6dde7fe2-3c95-4068-f109-74d18a8a52c2"
      },
      "source": [
        "#creating a DataFrame from dict of narray/list\n",
        "\n",
        "import pandas as pd\n",
        "\n",
        "data={'subject':['maths','science','chemistry'], 'marks':[20,21,22]}\n",
        "\n",
        "df=pd.DataFrame(data)\n",
        "print(df)"
      ],
      "execution_count": null,
      "outputs": [
        {
          "output_type": "stream",
          "text": [
            "     subject  marks\n",
            "0      maths     20\n",
            "1    science     21\n",
            "2  chemistry     22\n"
          ],
          "name": "stdout"
        }
      ]
    },
    {
      "cell_type": "code",
      "metadata": {
        "colab": {
          "base_uri": "https://localhost:8080/"
        },
        "id": "rZiAUA5OP-T5",
        "outputId": "a488b81f-8022-4b08-f36b-2f930e228555"
      },
      "source": [
        "#creating pandas df using lists of lists\n",
        "\n",
        "import pandas as pd\n",
        "\n",
        "data=[['Geeks',10],['for',15],['geeks',20]]\n",
        "\n",
        "df=pd.DataFrame(data,columns=['Name','Age'])\n",
        "\n",
        "print(df)\n",
        "print(\"-----------------------------\")\n",
        "print(df.transpose())\n"
      ],
      "execution_count": null,
      "outputs": [
        {
          "output_type": "stream",
          "text": [
            "    Name  Age\n",
            "0  Geeks   10\n",
            "1    for   15\n",
            "2  geeks   20\n",
            "-----------------------------\n",
            "          0    1      2\n",
            "Name  Geeks  for  geeks\n",
            "Age      10   15     20\n"
          ],
          "name": "stdout"
        }
      ]
    },
    {
      "cell_type": "code",
      "metadata": {
        "colab": {
          "base_uri": "https://localhost:8080/"
        },
        "id": "7zQRMRewQ6j6",
        "outputId": "12175cef-fe14-4044-b20e-ee9acd892875"
      },
      "source": [
        "#creating a pandas  df using list of tuples\n",
        "\n",
        "import pandas as pd\n",
        "\n",
        "data=[('a',1,2),\n",
        "      ('b',3,4),\n",
        "      ('c',5,6),\n",
        "      ('d',7,8)]\n",
        "\n",
        "df=pd.DataFrame(data,columns=['name','rollno','score'])      \n",
        "\n",
        "print(df)"
      ],
      "execution_count": null,
      "outputs": [
        {
          "output_type": "stream",
          "text": [
            "  name  rollno  score\n",
            "0    a       1      2\n",
            "1    b       3      4\n",
            "2    c       5      6\n",
            "3    d       7      8\n"
          ],
          "name": "stdout"
        }
      ]
    },
    {
      "cell_type": "code",
      "metadata": {
        "id": "FDuXDKUcXu5c",
        "colab": {
          "base_uri": "https://localhost:8080/"
        },
        "outputId": "f57fb97d-c51a-4b41-c1cb-6da13d00318d"
      },
      "source": [
        "#create a pandas DF from list of Dicts\n",
        "\n",
        "import pandas as pd\n",
        "\n",
        "data =[{'Geeks':'Dataframe','For':'using','geeks':'list'},\n",
        "       {'Geeks':10,  'For':20,'geek':30}]\n",
        "\n",
        "df =pd.DataFrame(data)\n",
        "\n",
        "print(df)\n"
      ],
      "execution_count": null,
      "outputs": [
        {
          "output_type": "stream",
          "text": [
            "       Geeks    For  geek\n",
            "0  Dataframe  using  list\n",
            "1         10     20    30\n"
          ],
          "name": "stdout"
        }
      ]
    },
    {
      "cell_type": "code",
      "metadata": {
        "colab": {
          "base_uri": "https://localhost:8080/"
        },
        "id": "nDB0abnO18m8",
        "outputId": "c053a260-a4c8-4d06-c430-11b77d0ae6bd"
      },
      "source": [
        "#converted list of nested dictionary into pandas dataframe\n",
        "\n",
        "import pandas as pd\n",
        "\n",
        "list = [\n",
        "        {\n",
        "            \"Students\" : [{\"EXAM\":90,\"Grade\":\"a\"},\n",
        "                          {\"EXAM\":99,\"Grade\":\"b\"},\n",
        "                          {\"EXAM\":97,\"Grade\":\"c\"},\n",
        "                          \n",
        "                         ],\n",
        "            \"NAME\": \"SANCHAY CHAKRABORTY\"       \n",
        "        },\n",
        "        {\n",
        "            \"Students\" : [{\"EXAM\":90,\"Grade\":\"a\"},\n",
        "                          {\"EXAM\":99,\"Grade\":\"b\"},\n",
        "                          {\"EXAM\":97,\"Grade\":\"c\"},\n",
        "                          \n",
        "                         ],\n",
        "         \n",
        "          \"NAME\": \"SANCHAY CHAKRABORTY\"\n",
        "        }\n",
        "      ]\n",
        "df =pd.DataFrame(list)\n",
        "\n",
        "print(df)"
      ],
      "execution_count": null,
      "outputs": [
        {
          "output_type": "stream",
          "text": [
            "                                            Students                 NAME\n",
            "0  [{'EXAM': 90, 'Grade': 'a'}, {'EXAM': 99, 'Gra...  SANCHAY CHAKRABORTY\n",
            "1  [{'EXAM': 90, 'Grade': 'a'}, {'EXAM': 99, 'Gra...  SANCHAY CHAKRABORTY\n"
          ],
          "name": "stdout"
        }
      ]
    },
    {
      "cell_type": "code",
      "metadata": {
        "id": "-KBafJ0Q36K_"
      },
      "source": [
        ""
      ],
      "execution_count": null,
      "outputs": []
    }
  ]
}